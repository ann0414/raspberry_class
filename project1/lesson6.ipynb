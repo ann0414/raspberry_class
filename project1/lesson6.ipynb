{
 "cells": [
  {
   "cell_type": "code",
   "execution_count": 1,
   "metadata": {},
   "outputs": [
    {
     "name": "stdout",
     "output_type": "stream",
     "text": [
      "成功\n"
     ]
    }
   ],
   "source": [
    "import requests\n",
    "url = \"https://maker.ifttt.com/trigger/receive_notify/with/key/3Gzu7udmuI3SrhoUWv04j\"\n",
    "\n",
    "res = requests.request(\"POST\",url, \n",
    "                 headers={'Content-Type': 'application/json'},\n",
    "                 params={'value1':'10','value2':'20','value3':'30'})\n",
    "if res.status_code == 200:\n",
    "    print(\"成功\")"
   ]
  }
 ],
 "metadata": {
  "kernelspec": {
   "display_name": ".venv",
   "language": "python",
   "name": "python3"
  },
  "language_info": {
   "codemirror_mode": {
    "name": "ipython",
    "version": 3
   },
   "file_extension": ".py",
   "mimetype": "text/x-python",
   "name": "python",
   "nbconvert_exporter": "python",
   "pygments_lexer": "ipython3",
   "version": "3.11.2"
  }
 },
 "nbformat": 4,
 "nbformat_minor": 2
}

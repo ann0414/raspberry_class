{
 "cells": [
  {
   "cell_type": "code",
   "execution_count": null,
   "metadata": {},
   "outputs": [],
   "source": [
    "import requests\n",
    "url = \"https://maker.ifttt.com/trigger/receive_notify/with/key/3Gzu7udmuI3SrhoUWv04j\"\n",
    "\n",
    "requests.request(\"POST\",url, \n",
    "                 headers={'Content-Type': 'application/json'})"
   ]
  }
 ],
 "metadata": {
  "language_info": {
   "name": "python"
  }
 },
 "nbformat": 4,
 "nbformat_minor": 2
}
